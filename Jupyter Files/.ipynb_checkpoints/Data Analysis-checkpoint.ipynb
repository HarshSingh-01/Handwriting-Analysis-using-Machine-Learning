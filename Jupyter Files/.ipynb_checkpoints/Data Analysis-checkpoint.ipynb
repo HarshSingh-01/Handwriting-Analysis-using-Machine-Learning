{
 "cells": [
  {
   "cell_type": "code",
   "execution_count": 1,
   "metadata": {},
   "outputs": [],
   "source": [
    "import pandas as pd\n",
    "import matplotlib.pyplot as plt\n",
    "%matplotlib inline"
   ]
  },
  {
   "cell_type": "code",
   "execution_count": 3,
   "metadata": {},
   "outputs": [
    {
     "data": {
      "text/html": [
       "<div>\n",
       "<style scoped>\n",
       "    .dataframe tbody tr th:only-of-type {\n",
       "        vertical-align: middle;\n",
       "    }\n",
       "\n",
       "    .dataframe tbody tr th {\n",
       "        vertical-align: top;\n",
       "    }\n",
       "\n",
       "    .dataframe thead th {\n",
       "        text-align: right;\n",
       "    }\n",
       "</style>\n",
       "<table border=\"1\" class=\"dataframe\">\n",
       "  <thead>\n",
       "    <tr style=\"text-align: right;\">\n",
       "      <th></th>\n",
       "      <th>BASELINE_ANGLE</th>\n",
       "      <th>TOP_MARGIN</th>\n",
       "      <th>LETTER_SIZE</th>\n",
       "      <th>LINE_SPACING</th>\n",
       "      <th>WORD_SPACING</th>\n",
       "      <th>SLANT_ANGLE</th>\n",
       "      <th>IMAGE_NAME</th>\n",
       "    </tr>\n",
       "  </thead>\n",
       "  <tbody>\n",
       "    <tr>\n",
       "      <td>0</td>\n",
       "      <td>0.99</td>\n",
       "      <td>4.22</td>\n",
       "      <td>48.76</td>\n",
       "      <td>2.42</td>\n",
       "      <td>10.54</td>\n",
       "      <td>-15</td>\n",
       "      <td>a01-000u.png</td>\n",
       "    </tr>\n",
       "    <tr>\n",
       "      <td>1</td>\n",
       "      <td>0.00</td>\n",
       "      <td>9.72</td>\n",
       "      <td>23.86</td>\n",
       "      <td>6.72</td>\n",
       "      <td>16.25</td>\n",
       "      <td>180</td>\n",
       "      <td>a01-000x.png</td>\n",
       "    </tr>\n",
       "    <tr>\n",
       "      <td>2</td>\n",
       "      <td>-0.21</td>\n",
       "      <td>7.29</td>\n",
       "      <td>29.62</td>\n",
       "      <td>3.17</td>\n",
       "      <td>16.98</td>\n",
       "      <td>180</td>\n",
       "      <td>a01-003.png</td>\n",
       "    </tr>\n",
       "    <tr>\n",
       "      <td>3</td>\n",
       "      <td>-0.09</td>\n",
       "      <td>4.88</td>\n",
       "      <td>43.00</td>\n",
       "      <td>1.12</td>\n",
       "      <td>11.70</td>\n",
       "      <td>-15</td>\n",
       "      <td>a01-003u.png</td>\n",
       "    </tr>\n",
       "    <tr>\n",
       "      <td>4</td>\n",
       "      <td>-0.54</td>\n",
       "      <td>4.20</td>\n",
       "      <td>56.22</td>\n",
       "      <td>1.03</td>\n",
       "      <td>17.45</td>\n",
       "      <td>180</td>\n",
       "      <td>a01-003x.png</td>\n",
       "    </tr>\n",
       "  </tbody>\n",
       "</table>\n",
       "</div>"
      ],
      "text/plain": [
       "   BASELINE_ANGLE  TOP_MARGIN  LETTER_SIZE  LINE_SPACING  WORD_SPACING  \\\n",
       "0            0.99        4.22        48.76          2.42         10.54   \n",
       "1            0.00        9.72        23.86          6.72         16.25   \n",
       "2           -0.21        7.29        29.62          3.17         16.98   \n",
       "3           -0.09        4.88        43.00          1.12         11.70   \n",
       "4           -0.54        4.20        56.22          1.03         17.45   \n",
       "\n",
       "   SLANT_ANGLE    IMAGE_NAME  \n",
       "0          -15  a01-000u.png  \n",
       "1          180  a01-000x.png  \n",
       "2          180   a01-003.png  \n",
       "3          -15  a01-003u.png  \n",
       "4          180  a01-003x.png  "
      ]
     },
     "execution_count": 3,
     "metadata": {},
     "output_type": "execute_result"
    }
   ],
   "source": [
    "# Importing Data file\n",
    "path = r'C:\\\\Users\\Harsh\\Desktop\\Projects\\Handwriting-Analysis-using-Machine-Learning\\scripts\\Extracted_Features/raw_feature_list.txt'\n",
    "df = pd.read_csv(path, sep=\"\\t\", header=None)\n",
    "df = df.drop([7], axis=1)\n",
    "df.columns = ['BASELINE_ANGLE', 'TOP_MARGIN', 'LETTER_SIZE', 'LINE_SPACING', 'WORD_SPACING', 'SLANT_ANGLE', 'IMAGE_NAME']\n",
    "df.to_csv('raw_feature_list.csv')\n",
    "df.head()"
   ]
  },
  {
   "cell_type": "code",
   "execution_count": 16,
   "metadata": {},
   "outputs": [
    {
     "data": {
      "text/plain": [
       "Index(['BASELINE_ANGLE', 'TOP_MARGIN', 'LETTER_SIZE', 'LINE_SPACING',\n",
       "       'WORD_SPACING', 'SLANT_ANGLE', 'IMAGE_NAME'],\n",
       "      dtype='object')"
      ]
     },
     "execution_count": 16,
     "metadata": {},
     "output_type": "execute_result"
    }
   ],
   "source": [
    "df.columns"
   ]
  },
  {
   "cell_type": "code",
   "execution_count": 18,
   "metadata": {
    "scrolled": true
   },
   "outputs": [
    {
     "data": {
      "text/html": [
       "<div>\n",
       "<style scoped>\n",
       "    .dataframe tbody tr th:only-of-type {\n",
       "        vertical-align: middle;\n",
       "    }\n",
       "\n",
       "    .dataframe tbody tr th {\n",
       "        vertical-align: top;\n",
       "    }\n",
       "\n",
       "    .dataframe thead th {\n",
       "        text-align: right;\n",
       "    }\n",
       "</style>\n",
       "<table border=\"1\" class=\"dataframe\">\n",
       "  <thead>\n",
       "    <tr style=\"text-align: right;\">\n",
       "      <th></th>\n",
       "      <th>BASELINE_ANGLE</th>\n",
       "      <th>TOP_MARGIN</th>\n",
       "      <th>LETTER_SIZE</th>\n",
       "      <th>LINE_SPACING</th>\n",
       "      <th>WORD_SPACING</th>\n",
       "      <th>SLANT_ANGLE</th>\n",
       "    </tr>\n",
       "  </thead>\n",
       "  <tbody>\n",
       "    <tr>\n",
       "      <td>count</td>\n",
       "      <td>1539.000000</td>\n",
       "      <td>1539.000000</td>\n",
       "      <td>1539.000000</td>\n",
       "      <td>1539.000000</td>\n",
       "      <td>1539.000000</td>\n",
       "      <td>1539.000000</td>\n",
       "    </tr>\n",
       "    <tr>\n",
       "      <td>mean</td>\n",
       "      <td>0.088642</td>\n",
       "      <td>5.498778</td>\n",
       "      <td>40.705387</td>\n",
       "      <td>2.121111</td>\n",
       "      <td>16.676628</td>\n",
       "      <td>49.282001</td>\n",
       "    </tr>\n",
       "    <tr>\n",
       "      <td>std</td>\n",
       "      <td>0.863214</td>\n",
       "      <td>1.510494</td>\n",
       "      <td>10.135606</td>\n",
       "      <td>1.658003</td>\n",
       "      <td>4.890819</td>\n",
       "      <td>92.887265</td>\n",
       "    </tr>\n",
       "    <tr>\n",
       "      <td>min</td>\n",
       "      <td>-8.150000</td>\n",
       "      <td>0.140000</td>\n",
       "      <td>10.460000</td>\n",
       "      <td>0.210000</td>\n",
       "      <td>3.420000</td>\n",
       "      <td>-45.000000</td>\n",
       "    </tr>\n",
       "    <tr>\n",
       "      <td>25%</td>\n",
       "      <td>-0.230000</td>\n",
       "      <td>4.520000</td>\n",
       "      <td>34.000000</td>\n",
       "      <td>1.300000</td>\n",
       "      <td>13.215000</td>\n",
       "      <td>-15.000000</td>\n",
       "    </tr>\n",
       "    <tr>\n",
       "      <td>50%</td>\n",
       "      <td>0.000000</td>\n",
       "      <td>5.280000</td>\n",
       "      <td>39.770000</td>\n",
       "      <td>1.780000</td>\n",
       "      <td>16.030000</td>\n",
       "      <td>-15.000000</td>\n",
       "    </tr>\n",
       "    <tr>\n",
       "      <td>75%</td>\n",
       "      <td>0.460000</td>\n",
       "      <td>6.195000</td>\n",
       "      <td>46.400000</td>\n",
       "      <td>2.470000</td>\n",
       "      <td>20.155000</td>\n",
       "      <td>180.000000</td>\n",
       "    </tr>\n",
       "    <tr>\n",
       "      <td>max</td>\n",
       "      <td>6.170000</td>\n",
       "      <td>20.270000</td>\n",
       "      <td>120.400000</td>\n",
       "      <td>25.730000</td>\n",
       "      <td>34.790000</td>\n",
       "      <td>180.000000</td>\n",
       "    </tr>\n",
       "  </tbody>\n",
       "</table>\n",
       "</div>"
      ],
      "text/plain": [
       "       BASELINE_ANGLE   TOP_MARGIN  LETTER_SIZE  LINE_SPACING  WORD_SPACING  \\\n",
       "count     1539.000000  1539.000000  1539.000000   1539.000000   1539.000000   \n",
       "mean         0.088642     5.498778    40.705387      2.121111     16.676628   \n",
       "std          0.863214     1.510494    10.135606      1.658003      4.890819   \n",
       "min         -8.150000     0.140000    10.460000      0.210000      3.420000   \n",
       "25%         -0.230000     4.520000    34.000000      1.300000     13.215000   \n",
       "50%          0.000000     5.280000    39.770000      1.780000     16.030000   \n",
       "75%          0.460000     6.195000    46.400000      2.470000     20.155000   \n",
       "max          6.170000    20.270000   120.400000     25.730000     34.790000   \n",
       "\n",
       "       SLANT_ANGLE  \n",
       "count  1539.000000  \n",
       "mean     49.282001  \n",
       "std      92.887265  \n",
       "min     -45.000000  \n",
       "25%     -15.000000  \n",
       "50%     -15.000000  \n",
       "75%     180.000000  \n",
       "max     180.000000  "
      ]
     },
     "execution_count": 18,
     "metadata": {},
     "output_type": "execute_result"
    }
   ],
   "source": [
    "# Checking min, max, and mean using pandas describe method.\n",
    "df.describe()"
   ]
  },
  {
   "cell_type": "code",
   "execution_count": 21,
   "metadata": {},
   "outputs": [
    {
     "data": {
      "text/plain": [
       "(array([1.000e+00, 0.000e+00, 1.000e+00, 9.000e+00, 1.080e+02, 1.031e+03,\n",
       "        3.470e+02, 3.700e+01, 4.000e+00, 1.000e+00]),\n",
       " array([-8.15 , -6.718, -5.286, -3.854, -2.422, -0.99 ,  0.442,  1.874,\n",
       "         3.306,  4.738,  6.17 ]),\n",
       " <a list of 10 Patch objects>)"
      ]
     },
     "execution_count": 21,
     "metadata": {},
     "output_type": "execute_result"
    },
    {
     "data": {
      "image/png": "[encoded data removed]",
      "text/plain": [
       "<Figure size 432x288 with 1 Axes>"
      ]
     },
     "metadata": {
      "needs_background": "light"
     },
     "output_type": "display_data"
    }
   ],
   "source": [
    "# Ploting \n",
    "# Baseline Angle\n",
    "plt.hist(df['BASELINE_ANGLE'])"
   ]
  },
  {
   "cell_type": "code",
   "execution_count": 22,
   "metadata": {},
   "outputs": [
    {
     "data": {
      "text/plain": [
       "(array([  3., 225., 915., 340.,  38.,  10.,   5.,   0.,   2.,   1.]),\n",
       " array([ 0.14 ,  2.153,  4.166,  6.179,  8.192, 10.205, 12.218, 14.231,\n",
       "        16.244, 18.257, 20.27 ]),\n",
       " <a list of 10 Patch objects>)"
      ]
     },
     "execution_count": 22,
     "metadata": {},
     "output_type": "execute_result"
    },
    {
     "data": {
      "image/png": "[encoded data removed]",
      "text/plain": [
       "<Figure size 432x288 with 1 Axes>"
      ]
     },
     "metadata": {
      "needs_background": "light"
     },
     "output_type": "display_data"
    }
   ],
   "source": [
    "# Top Margin\n",
    "plt.hist(df['TOP_MARGIN'])"
   ]
  },
  {
   "cell_type": "code",
   "execution_count": 24,
   "metadata": {},
   "outputs": [
    {
     "data": {
      "text/plain": [
       "count    1539.000000\n",
       "mean       40.705387\n",
       "std        10.135606\n",
       "min        10.460000\n",
       "25%        34.000000\n",
       "50%        39.770000\n",
       "75%        46.400000\n",
       "max       120.400000\n",
       "Name: LETTER_SIZE, dtype: float64"
      ]
     },
     "execution_count": 24,
     "metadata": {},
     "output_type": "execute_result"
    },
    {
     "data": {
      "image/png": "[encoded data removed]",
      "text/plain": [
       "<Figure size 432x288 with 1 Axes>"
      ]
     },
     "metadata": {
      "needs_background": "light"
     },
     "output_type": "display_data"
    }
   ],
   "source": [
    "# Letter Size\n",
    "# Plotting\n",
    "plt.hist(df['LETTER_SIZE'])\n",
    "# Description\n",
    "df['LETTER_SIZE'].describe()"
   ]
  },
  {
   "cell_type": "code",
   "execution_count": 26,
   "metadata": {},
   "outputs": [
    {
     "data": {
      "text/plain": [
       "count    1539.000000\n",
       "mean        2.121111\n",
       "std         1.658003\n",
       "min         0.210000\n",
       "25%         1.300000\n",
       "50%         1.780000\n",
       "75%         2.470000\n",
       "max        25.730000\n",
       "Name: LINE_SPACING, dtype: float64"
      ]
     },
     "execution_count": 26,
     "metadata": {},
     "output_type": "execute_result"
    },
    {
     "data": {
      "image/png": "[encoded data removed]",
      "text/plain": [
       "<Figure size 432x288 with 1 Axes>"
      ]
     },
     "metadata": {
      "needs_background": "light"
     },
     "output_type": "display_data"
    }
   ],
   "source": [
    "# Line spacing\n",
    "# Plotting\n",
    "plt.hist(df[\"LINE_SPACING\"])\n",
    "\n",
    "df['LINE_SPACING'].describe()"
   ]
  },
  {
   "cell_type": "code",
   "execution_count": 28,
   "metadata": {},
   "outputs": [
    {
     "data": {
      "text/plain": [
       "count    1539.000000\n",
       "mean       16.676628\n",
       "std         4.890819\n",
       "min         3.420000\n",
       "25%        13.215000\n",
       "50%        16.030000\n",
       "75%        20.155000\n",
       "max        34.790000\n",
       "Name: WORD_SPACING, dtype: float64"
      ]
     },
     "execution_count": 28,
     "metadata": {},
     "output_type": "execute_result"
    },
    {
     "data": {
      "image/png": "[encoded data removed]",
      "text/plain": [
       "<Figure size 432x288 with 1 Axes>"
      ]
     },
     "metadata": {
      "needs_background": "light"
     },
     "output_type": "display_data"
    }
   ],
   "source": [
    "# Word Spacing\n",
    "plt.hist(df['WORD_SPACING'])\n",
    "\n",
    "df['WORD_SPACING'].describe()"
   ]
  },
  {
   "cell_type": "code",
   "execution_count": 8,
   "metadata": {},
   "outputs": [
    {
     "data": {
      "text/html": [
       "<div>\n",
       "<style scoped>\n",
       "    .dataframe tbody tr th:only-of-type {\n",
       "        vertical-align: middle;\n",
       "    }\n",
       "\n",
       "    .dataframe tbody tr th {\n",
       "        vertical-align: top;\n",
       "    }\n",
       "\n",
       "    .dataframe thead th {\n",
       "        text-align: right;\n",
       "    }\n",
       "</style>\n",
       "<table border=\"1\" class=\"dataframe\">\n",
       "  <thead>\n",
       "    <tr style=\"text-align: right;\">\n",
       "      <th></th>\n",
       "      <th>BASELINE_ANGLE</th>\n",
       "      <th>TOP_MARGIN</th>\n",
       "      <th>LETTER_SIZE</th>\n",
       "      <th>LINE_SPACING</th>\n",
       "      <th>WORD_SPACING</th>\n",
       "      <th>SLANT_ANGLE</th>\n",
       "      <th>Emotional Stability</th>\n",
       "      <th>Modesty</th>\n",
       "      <th>Personal Harmony and Flexibility</th>\n",
       "      <th>Lack of Discipline</th>\n",
       "      <th>Poor Concentration</th>\n",
       "      <th>Non Communicativeness</th>\n",
       "      <th>Social Isolation</th>\n",
       "      <th>IMAGE_NAME</th>\n",
       "    </tr>\n",
       "  </thead>\n",
       "  <tbody>\n",
       "    <tr>\n",
       "      <td>0</td>\n",
       "      <td>0.0</td>\n",
       "      <td>1.0</td>\n",
       "      <td>0.0</td>\n",
       "      <td>0.0</td>\n",
       "      <td>1.0</td>\n",
       "      <td>1.0</td>\n",
       "      <td>0</td>\n",
       "      <td>0</td>\n",
       "      <td>0</td>\n",
       "      <td>0</td>\n",
       "      <td>0</td>\n",
       "      <td>0</td>\n",
       "      <td>1</td>\n",
       "      <td>a01-000u.png</td>\n",
       "    </tr>\n",
       "    <tr>\n",
       "      <td>1</td>\n",
       "      <td>2.0</td>\n",
       "      <td>0.0</td>\n",
       "      <td>1.0</td>\n",
       "      <td>0.0</td>\n",
       "      <td>2.0</td>\n",
       "      <td>6.0</td>\n",
       "      <td>0</td>\n",
       "      <td>1</td>\n",
       "      <td>0</td>\n",
       "      <td>0</td>\n",
       "      <td>0</td>\n",
       "      <td>0</td>\n",
       "      <td>1</td>\n",
       "      <td>a01-000x.png</td>\n",
       "    </tr>\n",
       "    <tr>\n",
       "      <td>2</td>\n",
       "      <td>2.0</td>\n",
       "      <td>0.0</td>\n",
       "      <td>1.0</td>\n",
       "      <td>0.0</td>\n",
       "      <td>2.0</td>\n",
       "      <td>6.0</td>\n",
       "      <td>0</td>\n",
       "      <td>1</td>\n",
       "      <td>0</td>\n",
       "      <td>0</td>\n",
       "      <td>0</td>\n",
       "      <td>0</td>\n",
       "      <td>1</td>\n",
       "      <td>a01-003.png</td>\n",
       "    </tr>\n",
       "    <tr>\n",
       "      <td>3</td>\n",
       "      <td>2.0</td>\n",
       "      <td>1.0</td>\n",
       "      <td>2.0</td>\n",
       "      <td>1.0</td>\n",
       "      <td>1.0</td>\n",
       "      <td>1.0</td>\n",
       "      <td>1</td>\n",
       "      <td>0</td>\n",
       "      <td>0</td>\n",
       "      <td>0</td>\n",
       "      <td>0</td>\n",
       "      <td>0</td>\n",
       "      <td>0</td>\n",
       "      <td>a01-003u.png</td>\n",
       "    </tr>\n",
       "    <tr>\n",
       "      <td>4</td>\n",
       "      <td>1.0</td>\n",
       "      <td>1.0</td>\n",
       "      <td>0.0</td>\n",
       "      <td>1.0</td>\n",
       "      <td>2.0</td>\n",
       "      <td>6.0</td>\n",
       "      <td>0</td>\n",
       "      <td>0</td>\n",
       "      <td>0</td>\n",
       "      <td>1</td>\n",
       "      <td>1</td>\n",
       "      <td>0</td>\n",
       "      <td>0</td>\n",
       "      <td>a01-003x.png</td>\n",
       "    </tr>\n",
       "  </tbody>\n",
       "</table>\n",
       "</div>"
      ],
      "text/plain": [
       "   BASELINE_ANGLE  TOP_MARGIN  LETTER_SIZE  LINE_SPACING  WORD_SPACING  \\\n",
       "0             0.0         1.0          0.0           0.0           1.0   \n",
       "1             2.0         0.0          1.0           0.0           2.0   \n",
       "2             2.0         0.0          1.0           0.0           2.0   \n",
       "3             2.0         1.0          2.0           1.0           1.0   \n",
       "4             1.0         1.0          0.0           1.0           2.0   \n",
       "\n",
       "   SLANT_ANGLE  Emotional Stability  Modesty  \\\n",
       "0          1.0                    0        0   \n",
       "1          6.0                    0        1   \n",
       "2          6.0                    0        1   \n",
       "3          1.0                    1        0   \n",
       "4          6.0                    0        0   \n",
       "\n",
       "   Personal Harmony and Flexibility  Lack of Discipline  Poor Concentration  \\\n",
       "0                                 0                   0                   0   \n",
       "1                                 0                   0                   0   \n",
       "2                                 0                   0                   0   \n",
       "3                                 0                   0                   0   \n",
       "4                                 0                   1                   1   \n",
       "\n",
       "   Non Communicativeness  Social Isolation    IMAGE_NAME  \n",
       "0                      0                 1  a01-000u.png  \n",
       "1                      0                 1  a01-000x.png  \n",
       "2                      0                 1   a01-003.png  \n",
       "3                      0                 0  a01-003u.png  \n",
       "4                      0                 0  a01-003x.png  "
      ]
     },
     "execution_count": 8,
     "metadata": {},
     "output_type": "execute_result"
    }
   ],
   "source": [
    "# Importing Data file\n",
    "path = r'C:\\\\Users\\Harsh\\Desktop\\Projects\\Handwriting-Analysis-using-Machine-Learning\\scripts\\Extracted_Features/label_list.txt'\n",
    "df = pd.read_csv(path, sep=\"\\t\", header=None)\n",
    "# df = df.drop([13], axis=1)\n",
    "df.columns = ['BASELINE_ANGLE', 'TOP_MARGIN', 'LETTER_SIZE', 'LINE_SPACING', 'WORD_SPACING', 'SLANT_ANGLE', 'Emotional Stability', 'Modesty', 'Personal Harmony and Flexibility', 'Lack of Discipline', 'Poor Concentration', 'Non Communicativeness', 'Social Isolation','IMAGE_NAME']\n",
    "df.to_csv('label_list.csv')\n",
    "df.head()"
   ]
  },
  {
   "cell_type": "code",
   "execution_count": null,
   "metadata": {},
   "outputs": [],
   "source": [
    "# Importing Data file\n",
    "path = r'C:\\\\Users\\Harsh\\Desktop\\Projects\\Handwriting-Analysis-using-Machine-Learning\\scripts\\Extracted_Features/feature_list.txt'\n",
    "df = pd.read_csv(path, sep=\"\\t\", header=None)\n",
    "# df = df.drop([13], axis=1)\n",
    "df.columns = ['BASELINE_ANGLE', 'TOP_MARGIN', 'LETTER_SIZE', 'LINE_SPACING', 'WORD_SPACING', 'SLANT_ANGLE','IMAGE_NAME']\n",
    "df.to_csv('raw_feature_list.csv')\n",
    "df.head()"
   ]
  }
 ],
 "metadata": {
  "kernelspec": {
   "display_name": "Python 3",
   "language": "python",
   "name": "python3"
  },
  "language_info": {
   "codemirror_mode": {
    "name": "ipython",
    "version": 3
   },
   "file_extension": ".py",
   "mimetype": "text/x-python",
   "name": "python",
   "nbconvert_exporter": "python",
   "pygments_lexer": "ipython3",
   "version": "3.7.4"
  }
 },
 "nbformat": 4,
 "nbformat_minor": 2
}
